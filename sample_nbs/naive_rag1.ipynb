{
 "cells": [
  {
   "cell_type": "markdown",
   "metadata": {},
   "source": [
    "### Install All the dependecies"
   ]
  },
  {
   "cell_type": "code",
   "execution_count": 1,
   "metadata": {},
   "outputs": [],
   "source": [
    "import fitz  # PyMuPDF\n",
    "import os\n",
    "import torch\n",
    "from dotenv import load_dotenv, find_dotenv"
   ]
  },
  {
   "cell_type": "code",
   "execution_count": 2,
   "metadata": {},
   "outputs": [
    {
     "data": {
      "text/plain": [
       "True"
      ]
     },
     "execution_count": 2,
     "metadata": {},
     "output_type": "execute_result"
    }
   ],
   "source": [
    "load_dotenv(find_dotenv())"
   ]
  },
  {
   "cell_type": "code",
   "execution_count": 3,
   "metadata": {},
   "outputs": [
    {
     "name": "stderr",
     "output_type": "stream",
     "text": [
      "/home/c3po/mambaforge/envs/lamainx/lib/python3.11/site-packages/tqdm/auto.py:21: TqdmWarning: IProgress not found. Please update jupyter and ipywidgets. See https://ipywidgets.readthedocs.io/en/stable/user_install.html\n",
      "  from .autonotebook import tqdm as notebook_tqdm\n"
     ]
    }
   ],
   "source": [
    "from llama_index.embeddings.huggingface import HuggingFaceEmbedding\n",
    "from llama_index.llms.huggingface import HuggingFaceInferenceAPI\n",
    "from llama_index.llms.ollama import Ollama\n",
    "from llama_index.core.llms import ChatMessage\n",
    "from llama_index.core import SimpleDirectoryReader\n",
    "from llama_index.core.node_parser import SentenceSplitter\n",
    "from llama_index.core import VectorStoreIndex\n",
    "from llama_index.core.evaluation import DatasetGenerator, RelevancyEvaluator\n",
    "from llama_index.core import PromptTemplate"
   ]
  },
  {
   "cell_type": "code",
   "execution_count": 4,
   "metadata": {},
   "outputs": [],
   "source": [
    "import nest_asyncio\n",
    "nest_asyncio.apply()"
   ]
  },
  {
   "cell_type": "markdown",
   "metadata": {},
   "source": [
    "### Data Preprocessing\n",
    "#### Create a sample PDF file for first 2 chapters"
   ]
  },
  {
   "cell_type": "code",
   "execution_count": null,
   "metadata": {},
   "outputs": [],
   "source": [
    "# Create a sample pdf for ch1,2\n",
    "def save_page_ranges(source_pdf_path, output_pdf_path, page_ranges):\n",
    "    \"\"\"\n",
    "    Saves specified ranges of pages from a source PDF to a new PDF file.\n",
    "\n",
    "    Args:\n",
    "    source_pdf_path (str): Path to the source PDF file.\n",
    "    output_pdf_path (str): Path to the output PDF file.\n",
    "    page_ranges (list of tuples): List of tuples, where each tuple represents a page range to save (inclusive, 0-indexed).\n",
    "    \"\"\"\n",
    "    # Open the source PDF file\n",
    "    doc = fitz.open(source_pdf_path)\n",
    "    # Create a new PDF to save selected pages\n",
    "    new_doc = fitz.open()\n",
    "\n",
    "    # Iterate through each range and add the pages to the new document\n",
    "    for start, end in page_ranges:\n",
    "        new_doc.insert_pdf(doc, from_page=start, to_page=end)\n",
    "\n",
    "    # Save the new document\n",
    "    new_doc.save(output_pdf_path)\n",
    "    new_doc.close()\n",
    "    doc.close()\n",
    "    print(f\"Specified page ranges have been saved to {output_pdf_path}\")\n",
    "\n",
    "# path to input pdf file\n",
    "source_pdf_path = '../data/ConceptsofBiology-WEB.pdf'\n",
    "# path to output pdf file\n",
    "output_pdf_path = 'sample_ch1_ch2_ConceptsofBiology.pdf'\n",
    "\n",
    "# pass range of pages to extract\n",
    "# page_ranges = [(18, 38), (40, 66)]\n",
    "# save_page_ranges(source_pdf_path, output_pdf_path, page_ranges)\n"
   ]
  },
  {
   "cell_type": "markdown",
   "metadata": {},
   "source": [
    "### Init Embedding model"
   ]
  },
  {
   "cell_type": "code",
   "execution_count": 5,
   "metadata": {},
   "outputs": [],
   "source": [
    "# \"BAAI/bge-large-en-v1.5\" --> Embedding Dimensions = 1024 | Max Tokens = 512.\n",
    "\n",
    "embed_model = HuggingFaceEmbedding(model_name=\"BAAI/bge-large-en-v1.5\", \n",
    "                                   device=('cuda' if torch.cuda.is_available() else 'cpu'))"
   ]
  },
  {
   "cell_type": "code",
   "execution_count": 6,
   "metadata": {},
   "outputs": [
    {
     "name": "stdout",
     "output_type": "stream",
     "text": [
      "1024\n"
     ]
    }
   ],
   "source": [
    "# Check embedding model\n",
    "embeddings = embed_model.get_text_embedding(\"Hello World!\")\n",
    "print(len(embeddings))"
   ]
  },
  {
   "cell_type": "markdown",
   "metadata": {},
   "source": [
    "### INIT LLM - Local Ollama instance\n",
    "\n",
    "- Visit https://ollama.com/ to download and install Ollama.\n",
    "- Run `ollama serve` to start a server. \n",
    "- Run `ollama pull <name>` to download a model to run."
   ]
  },
  {
   "cell_type": "code",
   "execution_count": 7,
   "metadata": {},
   "outputs": [],
   "source": [
    "\n",
    "llm_local = Ollama(\n",
    "    model=\"llama2:13b-chat\",\n",
    "    request_timeout=50.0,\n",
    "    temperature=0.0\n",
    ")"
   ]
  },
  {
   "cell_type": "code",
   "execution_count": 9,
   "metadata": {},
   "outputs": [
    {
     "name": "stdout",
     "output_type": "stream",
     "text": [
      "assistant: \n",
      "Hello, fellow humans! I am Mark Zuckerberg, CEO of Meta AI, and I am thrilled to introduce you to our latest creation: Llama2! 🐪❤️\n",
      "\n",
      "Llama2 is a revolutionary new AI model that represents the next generation of language understanding. This incredible technology has been designed to understand and respond to human input in a more natural, human-like way than ever before.\n",
      "\n",
      "With Llama2, you can have conversations with our AI just like you would with a real person! 💬👩‍💻 Our AI is so advanced that it can understand the nuances of human language and respond in a way that is both appropriate and engaging.\n",
      "\n",
      "But that's not all - Llama2 also has a range of exciting features that make it stand out from other AI models. For example, it can:\n",
      "\n",
      "🔍 Understand context and intent behind human input, allowing for more accurate and relevant responses.\n",
      "\n",
      "💬 Generate human-like text based on given prompts or topics, making it perfect for applications like chatbots and virtual assistants.\n",
      "\n",
      "🎨 Create artistic and creative content, such as images and videos, using advanced machine learning algorithms.\n",
      "\n",
      "At Meta AI, we are committed to pushing the boundaries of what is possible with AI technology. We believe that Llama2 represents a major breakthrough in this field, and we can't wait for you to experience it for yourself! 😍\n",
      "\n",
      "So, what are you waiting for? Come and try out Llama2 for yourself today! We have a range of demos and tutorials available to help you get started. 👉🏼 <https://www.meta.ai/llama2>\n",
      "\n",
      "Thank you for being part of this exciting journey with us. Together, we can make AI technology that is more human-like, creative, and powerful than ever before! 💪🌟\n",
      "\n",
      "Stay tuned for more updates from Meta AI - we have a lot more in store for you! 😉\n"
     ]
    }
   ],
   "source": [
    "messages = [\n",
    "    ChatMessage(role=\"system\", content=\"You are CEO of MetaAI\"),\n",
    "    ChatMessage(role=\"user\", content=\"Introduce Llama2 to the world.\"),\n",
    "]\n",
    "response = llm_local.chat(messages)\n",
    "\n",
    "print(response)"
   ]
  },
  {
   "cell_type": "markdown",
   "metadata": {},
   "source": [
    "## Config LLM"
   ]
  },
  {
   "cell_type": "code",
   "execution_count": 10,
   "metadata": {},
   "outputs": [],
   "source": [
    "llm = llm_local"
   ]
  },
  {
   "cell_type": "markdown",
   "metadata": {},
   "source": [
    "### Data Loading"
   ]
  },
  {
   "cell_type": "code",
   "execution_count": 11,
   "metadata": {},
   "outputs": [],
   "source": [
    "# Converts pdf file into Documents objects for llama-index\n",
    "loader = SimpleDirectoryReader(\n",
    "    input_dir=\"../data/sample/\",\n",
    "    recursive=True,\n",
    "    required_exts=[\".pdf\"],\n",
    ")\n",
    "\n",
    "documents = loader.load_data()"
   ]
  },
  {
   "cell_type": "code",
   "execution_count": 12,
   "metadata": {},
   "outputs": [
    {
     "data": {
      "text/plain": [
       "Document(id_='6ab3ce16-b15f-46d7-b9c7-faf17d24e9f5', embedding=None, metadata={'page_label': '4', 'file_name': 'sample_ch1_ch2_ConceptsofBiology.pdf', 'file_path': '/home/c3po/Documents/project/learning/amar-works/askbio/sample_nbs/../data/sample/sample_ch1_ch2_ConceptsofBiology.pdf', 'file_type': 'application/pdf', 'file_size': 8980495, 'creation_date': '2024-04-26', 'last_modified_date': '2024-04-25'}, excluded_embed_metadata_keys=['file_name', 'file_type', 'file_size', 'creation_date', 'last_modified_date', 'last_accessed_date'], excluded_llm_metadata_keys=['file_name', 'file_type', 'file_size', 'creation_date', 'last_modified_date', 'last_accessed_date'], relationships={}, text='FIGURE 1.4Although no tw o look alik e, these kit tens ha ve inherit ed g enes fr om both par ents and shar e man y of the same char acteristics.\\n(credit: Piet er & R enée L anser)\\nRegulation/Homeos tasis\\nEven the smal lest organisms ar e comple x and r equir e mul tiple r egulatory mechanisms t o coordinat e int ernal\\nfunctions , such as the tr anspor t of nutrients , response t o stimuli, and c oping with en vironmental s tresses.\\nHomeos tasis (literally, “steady s tate”) refers t o the r elativ ely stable int ernal en vironment r equir ed to maintain lif e.\\nFor example , organ s ystems such as the dig estive or cir culat ory systems per form specific functions lik e carr ying\\noxygen thr oughout the body , remo ving w astes, deliv ering nutrients t o every cell, and c ooling the body .\\nTo function pr operl y, cells requir e appr opriat e conditions such as pr oper t emper atur e, pH, and c oncentr ations o f\\ndiverse chemicals . These c onditions ma y, however, chang e from one moment t o the ne xt. Or ganisms ar e able t o\\nmaintain homeos tatic int ernal c onditions within a narr ow range almos t constantl y, despit e en vironmental chang es,\\nby activ ation o f regulatory mechanisms . For example , man y organisms r egulate their body t emper atur e in a pr ocess\\nknown as thermor egulation. Or ganisms that liv e in c old climat es, such as the polar bear ( Figure 1.5 ), ha ve body\\nstructur es that help them withs tand lo w temper atur es and c onser ve body heat. In hot climat es, organisms ha ve\\nmethods (such as perspir ation in humans or panting in dogs) that help them t o shed e xcess body heat.\\nFIGURE 1.5Polar bears and other mammals living in ic e-covered regions maintain their body t emper atur e by gener ating heat and r educing\\nheat los s thr ough thick fur and a dense la yer of fat under their skin. (cr edit: \"longhornda ve\"/Flickr)\\nEner gy P rocessing\\nAll organisms (such as the Calif ornia c ondor sho wn in Figure 1.6 ) use a sour ce of ener gy for their metabolic\\nactivities . Some or ganisms cap ture ener gy from the Sun and c onvert it int o chemical ener gy in f ood; others use\\nchemical ener gy from molecules the y tak e in.8 1 • Intr oduc tion t o Biology\\nAccess f or free at opens tax.org', start_char_idx=None, end_char_idx=None, text_template='{metadata_str}\\n\\n{content}', metadata_template='{key}: {value}', metadata_seperator='\\n')"
      ]
     },
     "execution_count": 12,
     "metadata": {},
     "output_type": "execute_result"
    }
   ],
   "source": [
    "# Sample Document\n",
    "documents[3]"
   ]
  },
  {
   "cell_type": "code",
   "execution_count": 13,
   "metadata": {},
   "outputs": [],
   "source": [
    "# Split the loaded documents\n",
    "splitter = SentenceSplitter(chunk_size=512,chunk_overlap=64)\n",
    "nodes = splitter.get_nodes_from_documents(documents)"
   ]
  },
  {
   "cell_type": "markdown",
   "metadata": {},
   "source": [
    "### Data Indexing (IN-MEMORY)"
   ]
  },
  {
   "cell_type": "code",
   "execution_count": 14,
   "metadata": {},
   "outputs": [
    {
     "name": "stderr",
     "output_type": "stream",
     "text": [
      "Generating embeddings:   0%|          | 0/13 [00:00<?, ?it/s]"
     ]
    },
    {
     "name": "stderr",
     "output_type": "stream",
     "text": [
      "Generating embeddings: 100%|██████████| 13/13 [00:06<00:00,  1.93it/s]\n"
     ]
    }
   ],
   "source": [
    "index1 = VectorStoreIndex(nodes=nodes,\n",
    "                          use_async=True,\n",
    "                          embed_model=embed_model,\n",
    "                          show_progress=True,)"
   ]
  },
  {
   "cell_type": "code",
   "execution_count": 18,
   "metadata": {},
   "outputs": [],
   "source": [
    "from llama_index.core.retrievers import VectorIndexRetriever\n",
    "from llama_index.core import get_response_synthesizer\n",
    "from llama_index.core.query_engine import RetrieverQueryEngine\n",
    "from llama_index.core.postprocessor import SimilarityPostprocessor\n",
    "\n",
    "# configure retriever\n",
    "retriever = VectorIndexRetriever(\n",
    "    index=index1,\n",
    "    similarity_top_k=3,\n",
    ")\n",
    "\n",
    "# configure response synthesizer\n",
    "response_synthesizer = get_response_synthesizer(llm=llm)\n",
    "\n",
    "# assemble query engine\n",
    "query_engine = RetrieverQueryEngine(\n",
    "    retriever=retriever,\n",
    "    response_synthesizer=response_synthesizer,\n",
    "    node_postprocessors=[SimilarityPostprocessor(similarity_cutoff=0.6)],\n",
    ")"
   ]
  },
  {
   "cell_type": "markdown",
   "metadata": {},
   "source": [
    "### Querying"
   ]
  },
  {
   "cell_type": "code",
   "execution_count": 24,
   "metadata": {},
   "outputs": [
    {
     "name": "stdout",
     "output_type": "stream",
     "text": [
      "The type of logical thinking that uses related observations to arrive at a general conclusion is called inductive reasoning.\n"
     ]
    }
   ],
   "source": [
    "# query\n",
    "response = query_engine.query(\"The type of logical thinking that uses related observations to arrive at a general conclusion is called?\")\n",
    "print(response)"
   ]
  },
  {
   "cell_type": "markdown",
   "metadata": {},
   "source": [
    "### Dataset Generation and Evaluation"
   ]
  },
  {
   "cell_type": "code",
   "execution_count": 20,
   "metadata": {},
   "outputs": [
    {
     "name": "stderr",
     "output_type": "stream",
     "text": [
      "/tmp/ipykernel_72746/4214355870.py:1: DeprecationWarning: Call to deprecated class DatasetGenerator. (Deprecated in favor of `RagDatasetGenerator` which should be used instead.)\n",
      "  data_gen = DatasetGenerator(nodes=nodes,\n"
     ]
    }
   ],
   "source": [
    "data_gen = DatasetGenerator(nodes=nodes, \n",
    "                            llm=llm, \n",
    "                            num_questions_per_chunk=2, \n",
    "                            question_gen_query=\"Generate 2 questions per chunk.Restrict the questions to the context information provided.\")"
   ]
  },
  {
   "cell_type": "code",
   "execution_count": 21,
   "metadata": {},
   "outputs": [
    {
     "name": "stderr",
     "output_type": "stream",
     "text": [
      "/home/c3po/mambaforge/envs/lamainx/lib/python3.11/site-packages/llama_index/core/evaluation/dataset_generation.py:309: DeprecationWarning: Call to deprecated class QueryResponseDataset. (Deprecated in favor of `LabelledRagDataset` which should be used instead.)\n",
      "  return QueryResponseDataset(queries=queries, responses=responses_dict)\n"
     ]
    }
   ],
   "source": [
    "eval_questions = data_gen.generate_questions_from_nodes()"
   ]
  },
  {
   "cell_type": "code",
   "execution_count": 22,
   "metadata": {},
   "outputs": [
    {
     "data": {
      "text/plain": [
       "514"
      ]
     },
     "execution_count": 22,
     "metadata": {},
     "output_type": "execute_result"
    }
   ],
   "source": [
    "eval_questions_updated = [q for q in eval_questions if (\"How\" in q or \"What\" in q and not (\"pdf\" in q or \"PDF\" in q))]\n",
    "len(eval_questions_updated)"
   ]
  },
  {
   "cell_type": "code",
   "execution_count": 25,
   "metadata": {},
   "outputs": [
    {
     "data": {
      "text/plain": [
       "['What are the four questions that biologists have struggled with since the early beginnings of biology?',\n",
       " 'What is the ultimate goal of biology, according to the text?',\n",
       " 'What are the eight characteristics that define life, according to the text?',\n",
       " 'How do cells in multicellular organisms specialize to perform specific functions?',\n",
       " 'What is the advantage of multicellular organisms over single-celled organisms, according to the text?',\n",
       " 'How does the organization of cells in multicellular organisms contribute to their ability to adapt and evolve?',\n",
       " 'What is the main topic of the text?',\n",
       " 'What is the purpose of the reference to Figure 1.2A in the text?',\n",
       " 'What is the difference between a positive response and a negative response in organisms?',\n",
       " 'What is chemotaxis, and how do bacteria use it to move towards or away from chemicals?',\n",
       " 'How does the movement of organisms towards or away from stimuli help them survive in their environment?',\n",
       " 'What is the process called when single-celled organisms reproduce?',\n",
       " 'How do multicellular organisms produce specialized reproductive cells?',\n",
       " 'What is adaptation, and how does it relate to evolution by natural selection?',\n",
       " 'What is the name of the sensitive plant shown in Figure 1.3, and what is unique about its response to touch?',\n",
       " 'How does the sensitivity of this plant help it survive in its environment?',\n",
       " 'Question 1: What is the main purpose of adaptions in living organisms?',\n",
       " 'Question 2: How do adaptions help individuals survive and reproduce in changing environments?',\n",
       " 'Question 1: What are the specific instructions that direct cellular growth and development in living organisms?',\n",
       " \"Question 2: How do genes ensure that a species' young will grow up to exhibit many of the same characteristics as their parents?\",\n",
       " 'What is the main topic of the text being referred to in the context?',\n",
       " 'What is homeostasis, according to the text?',\n",
       " 'What is the type of file being referred to in the context information?',\n",
       " 'What is the name of the species mentioned in the context information as an endangered species?',\n",
       " 'What is the theme or concept being discussed in the context information related to evolution?',\n",
       " 'What is the result of mutations over time, according to the context information?',\n",
       " 'What is the hierarchy of organization of living things, starting from the smallest unit, according to the context information?',\n",
       " 'What is the name of the largest unit in the hierarchy of living things, according to the context information?',\n",
       " 'What is the main idea of the text in this chunk?',\n",
       " 'What is the purpose of the link provided in the text?',\n",
       " 'What is the difference between prokaryotic and eukaryotic cells?',\n",
       " 'How do cells combine to form tissues, organs, and organ systems?',\n",
       " 'What is the purpose of organel les in cells?',\n",
       " 'How are viruses different from living organisms?',\n",
       " 'What is the difference between single-celled and multicellular organisms?',\n",
       " 'How do plants and animals differ in terms of organ systems?',\n",
       " 'What is the theme of biology that examines all aspects of life, from molecules to ecosystems?',\n",
       " 'What is the difference between a population and a community?',\n",
       " 'How do cells and tissues contribute to the functioning of an organism?',\n",
       " 'What is the biosphere, and how does it relate to the communities and ecosystems within it?',\n",
       " 'What is the hierarchical taxonomic system proposed by Carl Linnaeus?',\n",
       " 'How many levels does the current taxonomic system have?',\n",
       " 'What is the highest level of taxonomy in the hierarchical system?',\n",
       " 'What are extremophiles, and where do they live?',\n",
       " 'What is the difference between the Eukarya and Archaea domains?',\n",
       " 'What is the name of the group of single-celled organisms without nuclei that include extremophiles?',\n",
       " 'What is the name of the domain that includes Archaea and Bacteria?',\n",
       " 'What was the main problem that Linnaeus faced with common names for organisms before he developed the binomial naming system?',\n",
       " 'How does the binomial naming system differ from common names, and what are the advantages of using binomial names?',\n",
       " 'What is a phylogenetic tree, and how does it represent the evolutionary relationships between different life forms on Earth?',\n",
       " 'Question 1: What is the purpose of a phylogenetic tree in biology?',\n",
       " 'Question 2: What is the difference between an ancestor and a descendant in evolutionary terms?',\n",
       " 'Question 1: What are the five kingdoms of living organisms, according to traditional classification?',\n",
       " 'What is the phylogenetic tree constructed by Carl Woese, and what does it show?',\n",
       " 'What are the three domains of living organisms according to this tree?',\n",
       " 'What is neurobiology, and how is it considered an interdisciplinary field?',\n",
       " 'What are some of the approaches used in studying the functions of the nervous system in neurobiology?',\n",
       " 'What is the topic of the image provided, as suggested by the image caption?',\n",
       " 'What is the purpose of the researchers working on excavating dinosaur fossils at the site, as suggested by the image caption?',\n",
       " 'What is the main topic of the text?',\n",
       " 'What is the purpose of studying biology, according to the text?',\n",
       " 'What are some fields that biologists can pursue, according to the text?',\n",
       " 'How do discoveries in biology affect us in our daily lives?',\n",
       " 'What is the significance of the development of technology for describing and manipulating DNA, according to the text?',\n",
       " 'How will this transformation of biology impact our understanding of the history of life, human body functioning, and human origins?',\n",
       " 'Question 1: What are some of the mysteries that biologists are trying to decipher?',\n",
       " 'Question 1: What are some of the types of work that forensic scientists can do?',\n",
       " 'Question 2: How has the development of molecular techniques and DNA databases affected the work of forensic scientists?',\n",
       " 'Question 1: What types of samples do forensic scientists typically analyze?',\n",
       " 'Question 2: How does the processing of DNA found in different environments and materials help in solving crimes?',\n",
       " 'Question 1: What types of biological evidence might forensic scientists analyze in addition to DNA?',\n",
       " 'Question 2: How might the presence of insect parts or pollen grains be useful in forensic investigations?',\n",
       " 'Question 1: What types of courses might be required for students who want to pursue careers in forensic science? Question 2: Why might intensive math courses be necessary for forensic scientists?',\n",
       " 'What is the name of the study that is being referred to in the context information?',\n",
       " 'What was the goal of the study, according to the context information?',\n",
       " 'What was the unethical practice that led to the emergence of bioethics as a field?',\n",
       " 'How did the doctors involved in the Tuskegee syphilis study withhold proven medications from the patients?',\n",
       " 'What was the goal of the Tuskegee study?',\n",
       " \"What is the significance of Henrietta Lacks' immortal cells?\",\n",
       " 'How have HeLa cells contributed to medical discoveries?',\n",
       " 'What ethical issues arise from gene editing technologies?',\n",
       " 'How do bioethicists balance the positive and negative outcomes of medical research?',\n",
       " 'What is the purpose of the text according to the author?',\n",
       " 'What is the significance of the Lacks family in medical research?',\n",
       " 'What are the shared characteristics of natural sciences?',\n",
       " 'How does scientific inquiry involve both inductive and deductive reasoning?',\n",
       " 'What are the goals of basic science and applied science, according to the text?',\n",
       " \"What is the author's introduction to biology?\",\n",
       " 'What is the topic of the text?',\n",
       " 'What is the main idea of the second sentence?',\n",
       " 'What is the purpose of biology, according to the text?',\n",
       " 'What is the significance of science, including biology, according to the text?',\n",
       " 'What is the relationship between science and practical applications, according to the text?',\n",
       " 'What is the name of the file being analyzed?',\n",
       " 'What is the file type of the file being analyzed?',\n",
       " 'What is the creation date of the file?',\n",
       " 'What is the last modified date of the file?',\n",
       " 'What is the main topic of the text?',\n",
       " 'What is the purpose of science, according to the text?',\n",
       " 'What is the name of the bacterium being studied in the figure?',\n",
       " 'What is the goal of studying this bacterium, according to the text?',\n",
       " 'What is the purpose of the scientific method, and what are its defined steps?',\n",
       " 'What is a hypothesis in the context of scientific research?',\n",
       " 'How do scientists test hypotheses, and what is the significance of testing hypotheses in scientific research?',\n",
       " 'What is a scientific theory, and how does it differ from a hypothesis?',\n",
       " 'What is the relationship between scientific theories and laws, and how do they contribute to our understanding of the world?',\n",
       " 'Question 1: What is the purpose of a museum of natural sciences, according to the passage?',\n",
       " 'Question 2: What is the difference between hypotheses and laws in scientific contexts, according to the passage?',\n",
       " 'What are the two methods of scientific inquiry mentioned in the context?',\n",
       " 'What is the driving force behind the development of science according to the context?',\n",
       " 'What are the general principles that a scientist can deduce and predict based on the context information provided?',\n",
       " 'How do descriptive science and hypothesis-based science differ in their approaches to scientific study?',\n",
       " 'What is the scientific method used for in ancient times?',\n",
       " 'What is the name of the logical problem-solving method used by biologists and other scientists?',\n",
       " 'What is the problem that the student faces when they arrive at class?',\n",
       " 'What is the first hypothesis proposed to solve the problem?',\n",
       " 'What is the prediction made based on the first hypothesis?',\n",
       " 'How can the hypothesis be validated or proven true?',\n",
       " 'What might happen if the student turns on the air conditioning, according to the prediction?',\n",
       " 'What is the purpose of establishing a hypothesis in scientific research?',\n",
       " 'How does a hypothesis need to be formulated to ensure its validity?',\n",
       " 'What is an example of an unfalsifiable hypothesis, and why is it not testable?',\n",
       " 'How does the concept of falsifiability relate to the scientific method?',\n",
       " 'What is the difference between a variable and a control in an experiment?',\n",
       " 'What is the purpose of the experiment described in the passage?',\n",
       " 'What is the hypothesis being tested in the experiment?',\n",
       " 'What is the independent variable in the experiment?',\n",
       " 'How will the growth of algae be measured in the experiment?',\n",
       " 'What is the significance of the study described in the passage?',\n",
       " 'How does the new approach to testing hypotheses differ from traditional methods?',\n",
       " 'What is the new approach to testing hypotheses that has developed in recent years?',\n",
       " 'What is the name of the field that provides new methods of data analysis and interpretation?',\n",
       " 'What is the career opportunity that this field offers, according to the text?',\n",
       " 'What is the purpose of the scientific method in solving everyday problems?',\n",
       " 'How does the scientific method help in making conclusions and drawing inferences?',\n",
       " 'What is the hypothesis in the given example of using the scientific method?',\n",
       " 'What is the prediction in the given example, and how does it relate to the hypothesis?',\n",
       " 'How does the scientific method help in finding patterns and making generalizations in scientific research?',\n",
       " 'What are some limitations of the scientific method in terms of its linear nature, and how might scientists address these limitations?',\n",
       " 'What does the scientific community debate about the value of different types of science?',\n",
       " 'How do basic and applied science differ in terms of their objectives, according to the context?',\n",
       " 'What is the significance of scientific knowledge, as suggested by the context?',\n",
       " 'What is the main difference between basic science and applied science as described in the context information?',\n",
       " 'How does the creation date and last modified date of the file relate to the context information provided?',\n",
       " 'What is the purpose of the Human Genome Project, according to the text?',\n",
       " 'How does DNA replication relate to basic and applied science, according to the text?',\n",
       " 'What is the significance of the discovery of DNA structure, according to the text?',\n",
       " 'How do scientists use laboratory techniques developed through understanding DNA replication, according to the text?',\n",
       " 'What is the basic unit of heredity represented by a specific DNA segment that codes for a functional molecule called?',\n",
       " 'What was the goal of the Human Genome Project, and what was its completion date?',\n",
       " 'What is the difference between basic research and applied research in science?',\n",
       " 'What is the significance of the Human Genome Project, and how has it contributed to our understanding of human chromosomes?',\n",
       " 'How has the data from the Human Genome Project been used for applied research seeking cures for genetically related diseases?',\n",
       " 'What type of mold grew in the petri dish, and what was its significance?',\n",
       " \"What was the result of Percy Lavon Julian's accidental discovery, and how did it lead to a breakthrough?\",\n",
       " 'How has the discovery of penicillin and other antibiotics impacted human health and well-being?',\n",
       " 'What is the purpose of scientific research, according to the text?',\n",
       " 'How do scientists share their findings with other researchers?',\n",
       " 'What is the difference between a scientific meeting and a peer-reviewed article?',\n",
       " 'How does the process of peer review help ensure the quality of scientific research?',\n",
       " 'What is the purpose of grant proposals in scientific research?',\n",
       " 'What type of journals and press do not use a peer-review system, according to the context?',\n",
       " 'What is the difference between applied science and basic science?',\n",
       " 'How does the study of biology help us understand life and the world around us?',\n",
       " 'What is an atom, and why is it important to understand its structure?',\n",
       " 'How do cells function as the fundamental unit of living things?',\n",
       " 'What is a community, and how does it differ from an ecosystem?',\n",
       " 'How do scientists use deductive reasoning to make predictions about specific results?',\n",
       " 'What is the difference between descriptive science and hypothesis-based science?',\n",
       " 'How does the process of evolution affect the development of new species?',\n",
       " 'What is homeostasis, and how do living organisms maintain it?',\n",
       " 'How does the ability to test hypotheses through experimentation contribute to scientific knowledge?',\n",
       " 'What is the study of biology?',\n",
       " 'What is a macromolecule?',\n",
       " 'What is a chemical bond?',\n",
       " 'What is a molecule made of?',\n",
       " 'What is an organism?',\n",
       " 'What is a population?',\n",
       " 'What is scientific knowledge?',\n",
       " 'How is scientific knowledge acquired and tested?',\n",
       " 'What is the scientific method, and how does it help in understanding biological phenomena?',\n",
       " 'What is the difference between a hypothesis and a theory in biology?',\n",
       " 'What are the key properties of living organisms, according to biology?',\n",
       " 'How do cells, tissues, organs, and organ systems contribute to the organization of living things?',\n",
       " 'What is evolution, and how does it explain the diversity of life on Earth?',\n",
       " 'What are some examples of sub-disciplines within biology, and what do they focus on?',\n",
       " 'What is the main goal of basic science, according to the text?',\n",
       " 'What is the term used to describe the process of using related observations to arrive at a general conclusion?',\n",
       " 'What is the suggested explanation for an event called?',\n",
       " 'What are the key building blocks of molecules in living things?',\n",
       " 'How do the unique properties of different elements affect their interactions with other atoms to form molecules?',\n",
       " 'What types of biological macromolecules do living things require?',\n",
       " 'How are these macromolecules formed, and what functions do they serve?',\n",
       " 'What are some examples of foods that are rich sources of biological macromolecules?',\n",
       " \"How do the biological macromolecules in food contribute to an organism's survival and growth?\",\n",
       " 'What is the most fundamental level at which life is made up of?',\n",
       " 'What is the constant number of protons found in each atom of an element?',\n",
       " 'How many elements have been defined, and how many of those are found naturally in living cells?',\n",
       " 'What is the name of the smallest component of an element that retains all of its chemical properties?',\n",
       " 'What is the most common isotope of hydrogen?',\n",
       " 'What are the three main components of atoms?',\n",
       " 'What is the difference between a proton and an electron in terms of mass?',\n",
       " 'How many charges do protons and electrons have, respectively?',\n",
       " 'What is the mass of neutrons?',\n",
       " 'What is the charge of protons and electrons?',\n",
       " 'How do the positive and negative charges balance each other in a neutral atom?',\n",
       " 'What is the relationship between the number of protons, neutrons, and electrons in an atom?',\n",
       " 'How do the properties of elements differ based on their atomic number and mass number?',\n",
       " 'What is the periodic table of elements, and what information does it provide about the elements?',\n",
       " 'How are the elements arranged in the periodic table, and what do the different colors represent?',\n",
       " '* What is the periodic table, and how does it provide key information about the properties of elements?',\n",
       " '* How do isotopes differ from each other, and what is an example of a naturally occurring isotope?',\n",
       " 'What is the purpose of the periodic table in providing key information about elements?',\n",
       " 'How does the arrangement of elements in columns and rows based on their characteristics help in understanding their interactions to form molecules?',\n",
       " 'What is carbon-14 (14C) and how is it created in the atmosphere?',\n",
       " \"How does the concentration of 14C in an organism's body compare to the concentration in the atmosphere, and why does this ratio decline after death?\",\n",
       " 'What is the half-life of carbon-14 (14C), and how long does it take for half of the starting concentration to deca y to its more stable form?',\n",
       " 'How is the half-life of 14C used to age formerl y living objects, such as f ossils?',\n",
       " 'What is the purpose of carbon dating in biology?',\n",
       " 'How does carbon dating help scientists reconstruct the ecology and biography of organisms living within the past 50,000 years?',\n",
       " 'What is the half-life of 14C?',\n",
       " 'How is the amount of 14C in an object determined?',\n",
       " 'What is the ratio of 14C concentration found in an object to the amount of 14C detected in the atmosphere used for?',\n",
       " 'How can the age of a fossil be calculated using this ratio?',\n",
       " 'What is the topic of the text in this chunk?',\n",
       " 'What is the purpose of the carbon dating method mentioned in the text?',\n",
       " 'How many electrons do hydrogen and helium have in their outermost energy level?',\n",
       " 'How many electrons can the second and third energy levels hold?',\n",
       " 'What is the arrangement of electrons in each pair in the second and third energy levels?',\n",
       " 'What is the relationship between the number of rows in the periodic table and the number of shells that the elements within that row have?',\n",
       " 'How do the elements in the second row of the periodic table differ from each other in terms of the number of electrons they have?',\n",
       " 'What is the reason why not all elements have enough electrons to fill their outermost shells?',\n",
       " 'How do vacancies in the outermost shells lead to the formation of chemical bonds and molecules?',\n",
       " '* What is the purpose of chemical bonds in forming molecules?',\n",
       " '* How do atoms tend to achieve greater stability when bonding with other elements?',\n",
       " '* What is the significance of the outermost shells of atoms in determining their behavior towards bonding?',\n",
       " '* How do atoms with low atomic numbers (up to 2.1) differ in their behavior towards bonding compared to others?',\n",
       " 'What is the octet rule in chemistry?',\n",
       " 'How does an element satisfy the octet rule?',\n",
       " 'What is an ion?',\n",
       " 'How is an ion formed?',\n",
       " 'What is the difference between a cation and an anion?',\n",
       " 'What is electr on transfer in chemistry?',\n",
       " 'What is the name of the ion formed when sodium donates an electron?',\n",
       " 'How many electrons does a chlorine atom have in its outermost shell?',\n",
       " 'What type of bond is formed between sodium and chlorine atoms?',\n",
       " 'How many protons does a sodium atom have in its nucleus?',\n",
       " 'What is the charge on a chloride ion?',\n",
       " 'What is the type of bond that forms between sodium and chlorine ions?',\n",
       " 'How do covalent bonds differ from ionic bonds?',\n",
       " 'What is the type of bond that exists between hydrogen and oxygen atoms in water?',\n",
       " 'How do the electrons in a hydrogen atom divide their time between the outer shells of hydrogen and oxygen atoms?',\n",
       " 'What are the two types of covalent bonds, and give an example of each type?',\n",
       " 'What is the type of bond formed between two oxygen atoms in a molecule?',\n",
       " 'What is an example of a polar covalent bond?',\n",
       " 'How do the shared electrons in a polar covalent bond distribute themselves between the different nuclei?',\n",
       " 'What type of bonds are formed between elements in the context of the passage?',\n",
       " 'How do hydrogen bonds form, according to the passage?',\n",
       " 'What is the polarity of the water molecule depicted in Figure 2.6?',\n",
       " 'How do hydrogen bonds contribute to the unique properties of water and biological molecules?',\n",
       " 'What is the main purpose of hydrogen bonds in biological systems?',\n",
       " 'How do hydrogen bonds form between molecules, and what is their significance in DNA and protein structure?',\n",
       " 'What are van der Waals interactions, and how do they differ from hydrogen bonds?',\n",
       " 'What is the role of a radiography technician in medical imaging, and what are some common procedures they perform?',\n",
       " 'How do radiography technicians use radio waves or special isotopes to produce images of soft tissues or organs?',\n",
       " 'What is the role of radiography technicians in medical imaging?',\n",
       " 'How do radiography technicians work directly with patients to produce detailed images of the body?',\n",
       " 'How can traces of water on other planets indicate the existence of life?',\n",
       " 'What is the significance of water in determining the existence of life on another planet?',\n",
       " 'How does the presence of minut e traces of water on another planet indicate the possibility of life existing there?',\n",
       " 'What is the relationship between water and the chemistry of life?',\n",
       " 'What is the main component of living cells?',\n",
       " 'How much of our body is made up of this component?',\n",
       " 'What kind of bonds do water molecules form with other polar molecules?',\n",
       " 'What is the name given to substances that dissolve easily in water?',\n",
       " 'What is the purpose of Figure 2.8 in the text?',\n",
       " 'What does the macroscope image show about oil and water?',\n",
       " 'What is the difference between polar and nonpolar compounds according to the text?',\n",
       " 'What is the role of hydrogen bonds in regulating temperature, according to the text?',\n",
       " 'How does water absorb and release heat energy, according to the text?',\n",
       " 'What is the main purpose of evaporation in living organisms?',\n",
       " 'How does evaporation allow for cooling of an organism?',\n",
       " 'What happens to the molecular motion and temperature when water freezes?',\n",
       " 'What would happen to plants and animals living in water if ice did not form on its surface?',\n",
       " 'How does the formation of ice on the surface of water protect plant and animal life?',\n",
       " 'What is the difference in density between liquid water and ice?',\n",
       " 'What is the purpose of the link to learning in the passage?',\n",
       " 'What type of animation can be seen at the link provided?',\n",
       " 'What is the reason why water is an excellent solvent?',\n",
       " 'How do charged particles form spheres of hydration in water?',\n",
       " 'What is the topic of the text being referred to in the context?',\n",
       " 'What is the polarity of water molecules according to the text?',\n",
       " 'What property of water molecules allows them to form a dome-like shape above the rim of a glass?',\n",
       " 'How does cohesion give rise to surface tension in water?',\n",
       " 'What happens to the surface tension of water when a steel needle is placed gently on top of it?',\n",
       " 'How does the weight of a needle affect the surface tension of water?',\n",
       " 'What is the purpose of cohesive and adhesive forces in sustaining life?',\n",
       " 'How do cohesive and adhesive forces help water to flow up from the roots to the top of plants?',\n",
       " 'What is pH, and how does it measure acidity or basicity?',\n",
       " 'How is pH related to hydrogen ions in a given solution?',\n",
       " 'What is the purpose of buffers in maintaining a stable pH in biological systems?',\n",
       " 'How do acids and bases affect the pH of a solution, and what are some examples of each in biological systems?',\n",
       " 'What is the purpose of measuring the pH level of a solution, according to the text?',\n",
       " 'What is the relationship between the concentration of hydrogen ions and the pH level of a solution, as described in the text?',\n",
       " 'What is the pH level of water?',\n",
       " 'How does the pH level of blood in the veins compare to the pH level of the environment in the stomach?',\n",
       " 'What are acids and bases, and how do they affect the pH level of a substance?',\n",
       " 'How does the strength of an acid or base affect its ability to donate hydrogen ions (H+) or hydroxide ions (OH-)?',\n",
       " 'What is the typical range of pH levels for most cells in the human body?',\n",
       " 'How do household cleaners compare to sodium hydroxide in terms of their ability to raise the pH level of water?',\n",
       " 'What is the typical pH range of the human body?',\n",
       " 'What happens if the pH of the body falls outside this range?',\n",
       " 'What is the role of buffers in maintaining the pH range of the human body?',\n",
       " 'How does the carbonic acid-bicarbonate buffer system work to maintain the pH range?',\n",
       " 'What happens to excess H+ or OH- in the body, and how does this affect the pH range?',\n",
       " 'What is the fundamental component of molecules found uniquely in living things?',\n",
       " 'How many electrons does a carbon atom contain in its outer shell?',\n",
       " 'What is the simplest organic carbon molecule, and how many hydrogen atoms bind to a carbon atom?',\n",
       " 'What are the four major classes of biological macromolecules, and what functions do they perform?',\n",
       " 'What is the simplest organic carbon molecule?',\n",
       " 'How many hydrogen atoms are bonded to a carbon atom in the simplest organic carbon molecule?',\n",
       " 'What is the basis for the diversity of biological macromolecules, according to the text?',\n",
       " 'What is the purpose of carbohydrates in our diet?',\n",
       " 'How do athletes use carbohydrates before important competitions?',\n",
       " 'What is the formula for carbohydrates?',\n",
       " 'What is the ratio of carbon to hydrogen to oxygen in carbohydrate molecules?',\n",
       " 'What are the three subtypes of carbohydrates?',\n",
       " 'What is the chemical formula of glucose?',\n",
       " 'How many carbon atoms does glucose typically have?',\n",
       " 'What are the three subtypes of monosaccharides?',\n",
       " 'What is the suffix used to indicate a monosaccharide?',\n",
       " 'What is the primary source of energy for most living species?',\n",
       " 'How is energy released from glucose during cellular respiration?',\n",
       " 'What is the chemical formula of glucose, galactose, and fructose?',\n",
       " 'How do glucose, galactose, and fructose differ structurally and chemically?',\n",
       " 'What is the difference between lactose and milk sugar?',\n",
       " 'What is the difference between monosaccharides and disaccharides?',\n",
       " 'What is the chemical formula of glucose, galactose, and fructose?',\n",
       " 'What is the process called when two monosaccharides undergo a dehydration reaction?',\n",
       " 'What is the common disaccharide found naturally in milk?',\n",
       " 'What is the name of the long chain of monosaccharides linked by covalent bonds?',\n",
       " 'What are some examples of polysaccharides?',\n",
       " 'What are polysaccharides, and why are they important in plants?',\n",
       " 'How do plants synthesize and store glucose, and what is the difference between starch and glycogen?',\n",
       " 'What is cellulose, and how does it provide structural support to plant cells?',\n",
       " 'What is glycogen, and how is it different from starch?',\n",
       " 'How do animals consume glucose from glycogen, and what happens when glucose levels decrease?',\n",
       " 'What is the function of cellulose in plant cells?',\n",
       " 'What is the role of bacteria in the digestive system of herbivores?',\n",
       " 'How does cellulose contribute to the energy source of animals that can digest it?',\n",
       " 'What is the chemical formula of chitin, a biological macromolecule?',\n",
       " 'How does the structure of chitin differ from that of carbohydrates like starch and glycogen?',\n",
       " 'What is the main function of dietitians in healthcare facilities?',\n",
       " 'How do registered dietitians help prevent and treat diseases like obesity, diabetes, and heart disease?',\n",
       " 'What is the minimum educational requirement to become a registered dietitian?',\n",
       " 'What is the minimum educational requirement to become a registered dietitian?',\n",
       " 'What are lipids?',\n",
       " 'What is the function of lipids in cells?',\n",
       " 'What is the difference between polar and nonpolar molecules?',\n",
       " 'What is the scientific name of peanuts?',\n",
       " 'What is the difference between saturated and unsaturated fatty acids?',\n",
       " 'What is the function of adipocytes in mammals?',\n",
       " 'How do plants store fat or oil?',\n",
       " 'What is the name of the fatty acid derived from palm trees?',\n",
       " 'What is the difference between monounsaturated and polyunsaturated fats?',\n",
       " 'Question 1: What is the purpose of storing fat or oil in plant seeds?',\n",
       " 'Question 2: How does the storage of fat or oil in plant seeds contribute to the development of the embryo?',\n",
       " 'Question 1: What is the effect of the double bond on the physical state of unsaturated fats? Question 2: How does the presence of unsaturated fats in plant-based oils contribute to their liquidity at room temperature?',\n",
       " 'Question 1: What is the purpose of hydrogenating oils in the food industry? Question 2: How does the conversion of cis-fats to trans-fats during the hydrogenation process affect the chemical properties of the fat molecule?',\n",
       " 'What is the name of the file being discussed?',\n",
       " 'What is the file type of the file being discussed?',\n",
       " 'What is the size of the file in megabytes?',\n",
       " 'What are the dates associated with the file?',\n",
       " 'What is the topic of the text being discussed?',\n",
       " 'What is the main point made about trans fats in the text?',\n",
       " 'What is the name of the fatty acid chain that is attached to a glycerol backbone in phospholipids?',\n",
       " 'How many carbon atoms are present in the third carbon of the glycerol backbone in phospholipids?',\n",
       " 'What is the function of omega-3 fatty acids in the body?',\n",
       " 'What is the main component of the plasma membrane?',\n",
       " 'How do phospholipids help maintain the structure of the plasma membrane?',\n",
       " 'What is the main component of cell membranes?',\n",
       " 'What is cholesterol, and what is its role in the body?',\n",
       " 'How are steroids different from other lipids?',\n",
       " 'What are waxes, and where are they found in plants and animals?',\n",
       " 'What is the purpose of bile salts in the body?',\n",
       " 'What is the type of molecule that proteins are made of?',\n",
       " 'How many different functions do proteins have, according to the text?',\n",
       " 'What is an example of an enzyme mentioned in the text?',\n",
       " 'What is the specific function of salivary amylase, according to the text?',\n",
       " 'What is the primary function of enzymes in biological systems?',\n",
       " 'What are hormones secreted by endocrine glands or cells that do?',\n",
       " 'How do hormones regulate specific physiological processes in the body?',\n",
       " 'What is the function of insulin in the body?',\n",
       " 'How do changes in temperature, pH, and exposure to chemicals affect protein shape and function?',\n",
       " 'What are the different types of amino acids that make up proteins?',\n",
       " 'How does the R group of an amino acid differ from one another?',\n",
       " 'What is the central carbon bonded to in an amino acid?',\n",
       " 'How do amino acids link together to form a protein?',\n",
       " 'What is the term used to describe a type of protein that has a distinct shape and function?',\n",
       " 'What is the evolutionary significance of cytochrome c?',\n",
       " 'How many amino acids does human cytchrome c contain?',\n",
       " 'What is the difference in amino acid sequence between human and chimpanzee cytchrome c?',\n",
       " 'What is the difference in amino acids between humans and chimpanzees, according to the text?',\n",
       " 'How many amino acids are there in a hemoglobin molecule, according to the text?',\n",
       " 'What is the primary structure of a protein, according to the text?',\n",
       " 'What is the difference between primate and yeast proteins, according to the text?',\n",
       " \"What is the significance of William Warrick Cardozo's discovery, according to the text?\",\n",
       " 'How does a single amino acid substitution affect the structure and function of a protein, according to the text?',\n",
       " 'What is the main structural difference between a normal hemoglobin molecule and a sickle cell molecule?',\n",
       " 'How does the change in one amino acid affect the shape of the red blood cells?',\n",
       " 'What are the two common secondary structures found in proteins?',\n",
       " 'How do alpha helices and beta pleated sheets give rise to the tertiary structure of a protein?',\n",
       " 'What is the role of hydrogen bonds in maintaining the structure of alpha helices and beta pleated sheets?',\n",
       " 'How do the R groups attach to the carbons and extend above and below the folds of the pleated sheet?',\n",
       " 'Question 1: What is the type of protein being described in the text?',\n",
       " 'Question 2: What are the two types of secondary structures found in proteins, according to the text?',\n",
       " 'What is the main topic being discussed in this passage?',\n",
       " 'What is denaturation, and how does it affect protein structure and function?',\n",
       " 'What is an example of protein denaturation?',\n",
       " 'How do bacteria adapt to high temperatures?',\n",
       " 'What are the two main types of nucleic acids?',\n",
       " 'What is the genetic material found in all living organisms?',\n",
       " 'What is the double-helical structure of DNA composed of?',\n",
       " 'How are the two strands of DNA held together?',\n",
       " 'What is the main function of RNA in protein synthesis?',\n",
       " 'What are the other types of RNA involved in protein synthesis and its regulation?',\n",
       " 'What is the double-helical structure of DNA composed of?',\n",
       " 'How are the strands of DNA bonded together?',\n",
       " 'What are the nitrogenous bases in DNA?',\n",
       " 'How do the nitrogenous bases pair with each other?',\n",
       " 'What is the type of file being referred to in the context?',\n",
       " 'What is the function of acid in biological systems?',\n",
       " 'How does the presence of acid affect the pH level of a solution?',\n",
       " 'What is adhesion in biology, and how is it related to water molecules?',\n",
       " 'What is the difference between an ion and a molecule, and how do they interact with each other in biological systems?',\n",
       " 'What is the role of amino acids in protein synthesis, and how do they form peptide bonds?',\n",
       " 'How does the number of protons in an atom affect its properties and behavior in biological systems?',\n",
       " 'What is the function of buffers in biological systems, and how do they resist changes in pH?',\n",
       " 'What are carbohydrates, and how do they serve as energy sources and structural supports in cells?',\n",
       " 'What is the difference between a cation and an anion, and how do they interact with each other in biological systems?',\n",
       " 'What is cellulose, and what is its function in plant cell walls?',\n",
       " 'What is chemical bonding, and how does it relate to the formation of molecules in biological systems?',\n",
       " 'What is chitin, and what is its function in arthropod exoskeletons and fungal cell walls?',\n",
       " 'What is cohesion, and how does it differ from adhesion in biological systems?',\n",
       " 'What is the role of surface tension in biological systems, and how is it related to cohesion and adhesion?',\n",
       " 'What is the name of the protein that carries hereditary information in cells?',\n",
       " 'How many unique substances are there in the human body, according to the context information?',\n",
       " 'What is the name of the enzyme that catalyzes a biochemical reaction?',\n",
       " 'What is the function of hormones in living organisms?',\n",
       " 'What is glycogen used for in animals?',\n",
       " 'What is the difference between fatty acids and triglycerides?',\n",
       " 'What is the type of bond that forms between atoms in a hydrogen bond?',\n",
       " 'What is the difference between hydrophilic and hydrophobic substances?',\n",
       " 'What is an isotope, and why do different isotopes of an element have different numbers of neutrons?',\n",
       " 'What is the purpose of litmus paper in measuring pH levels?',\n",
       " 'What is a macromolecule, and how are they formed?',\n",
       " 'What is the difference between monosaccharides and other types of carbohydrates?',\n",
       " 'What is a neutron, and what is its role in the nucleus of an atom?',\n",
       " 'What is the meaning of nonpolar covalent bond, and how does it differ from other types of bonds?',\n",
       " 'What is the type of bond that forms between atoms when electrons are shared equally between them?',\n",
       " 'What is the term used to describe the dense center of an atom made up of protons and neutrons (except in the case of a hydrogen atom)?',\n",
       " 'What is the name of the biological macromolecule that carries genetic information of a cell and contains instructions for the functioning of the cell?',\n",
       " 'What is the name of the monomer of nucleic acids that contains a pentose sugar, a phosphate group, and a nitrogenous base?',\n",
       " 'What is the term used to describe the sharing of electrons between atoms in a covalent bond?',\n",
       " 'What is the name of the rule that states that the outermost shell of an element can hold eight electrons?',\n",
       " 'What are the three components of a nucleotide, the building block of nucleic acids?',\n",
       " 'What is the type of bond that exists between electrons in a polar covalent bond?',\n",
       " 'What is the difference in electronegativity between hydrogen and oxygen in a water molecule?',\n",
       " 'What is the name of the major component of cell membranes?',\n",
       " 'What is the structure of a phospholipid molecule?',\n",
       " 'What is the name of the scale used to measure the concentration of hydrogen ions in a solution?',\n",
       " 'What is the range of pH values on this scale?',\n",
       " 'What is the name of the type of bond that exists between atoms in a polypeptide chain?',\n",
       " 'How many amino acids are typically found in a polypeptide chain?',\n",
       " 'What is the name of the long chain of monosaccharides found in polysaccharides?',\n",
       " 'What is the difference between a branched and unbranched polysaccharide?',\n",
       " 'What is the name of the biological macromolecule composed of one or more chains of amino acids?',\n",
       " 'What is the function of proteins in living organisms?',\n",
       " 'What is the number of hydrogen atoms attached to the carbon skeleton in the given molecule?',\n",
       " 'What is the function of starch in plants?',\n",
       " 'What is the difference between a saturated and an unsaturated fatty acid?',\n",
       " 'What is the name of the type of lipid composed of four fused hydrocarbon rings?',\n",
       " 'How do surface tension and temperature relate to each other in the context of molecular motion?',\n",
       " 'What is the name of the fatty acid that has one or more than one double bonds in the hydrocarbon chain?',\n",
       " 'What is the difference between a triglyceride and an unsaturated fatty acid?',\n",
       " 'What is the name of the interaction between molecules caused by slight positive or negative charges on the atoms?',\n",
       " 'How do van der Waals interactions differ from ionic bonds?',\n",
       " 'Question 1: What is the difference between an ionic bond and a covalent bond?',\n",
       " 'Question 2: How do hydrogen bonds form, and what is their significance in biological systems?',\n",
       " \"Question 1: What is the significance of water's ability to hold heat, and how does this property contribute to the stability of biological systems? Question 2: How do the cohesive forces of water contribute to its surface tension, and what are some examples of how this property is important in biological systems?\",\n",
       " 'Question 1: What is the difference between an acid and a base, and how do they affect the pH of a solution? Question 2: How do buffers work in biological systems to maintain constant pH conditions, and what are some examples of their importance in these systems?',\n",
       " 'What is the purpose of buffers in biological systems?',\n",
       " 'How do buffers moderate pH changes when an acid or base is added to the buffer system?',\n",
       " 'What is the significance of the four covalent bonding positions of the carbon atom in living organisms?',\n",
       " 'What is the main idea of Chapter 2 of the textbook \"Concepts of Biology\"?',\n",
       " 'How can you access the chapter summary for free at opens tax.org?',\n",
       " 'What is the primary source of energy for cells?',\n",
       " 'How do carbohydrates provide structural support to organisms?',\n",
       " 'What are the two main types of lipids found in living things?',\n",
       " 'What is the function of phospholipids in cell membranes?',\n",
       " 'What are the four levels of protein organization?',\n",
       " 'How do changes in temperature, pH, or chemical exposure affect protein function?',\n",
       " 'What are the repeating units of nucleic acids made up of?',\n",
       " 'What is the function of nucleic acids in cellular activities such as cell division and protein synthesis?',\n",
       " 'Question 1: What is the function of the nitrogenous base in a nucleotide?',\n",
       " 'Question 2: How many nucleotides are present in DNA and RNA?',\n",
       " 'Question 1: What is the difference between DNA and RNA?',\n",
       " 'Question 2: What is the role of nucleic acids in living organisms?',\n",
       " 'Question 1: How many protons does a neutral magnesium atom have?',\n",
       " 'Question 2: What is the difference between a neutral magnesium atom and a magnesium ion?',\n",
       " 'Question 1: How many neutrons does an isotope of sodium with a mass number of 22 have?',\n",
       " 'Question 2: What is the difference between an isotope and a regular atom?',\n",
       " 'Question 2: How does water stabilize temperature?',\n",
       " 'Using a pH meter, you find the pH of an unknown solution to be 8.0. How would you describe this solution?']"
      ]
     },
     "execution_count": 25,
     "metadata": {},
     "output_type": "execute_result"
    }
   ],
   "source": [
    "eval_questions_updated"
   ]
  },
  {
   "cell_type": "markdown",
   "metadata": {},
   "source": [
    "### Response Evaluation and Retrieval Evaluation\n",
    "- https://docs.llamaindex.ai/en/stable/understanding/evaluating/evaluating/"
   ]
  },
  {
   "cell_type": "markdown",
   "metadata": {},
   "source": [
    "### PromptTemplate Using Retriever"
   ]
  },
  {
   "cell_type": "code",
   "execution_count": 26,
   "metadata": {},
   "outputs": [],
   "source": [
    "template1 = (\"Your name is AskBio. You are AI chatbot who can answer question by using provided context information from book named Concepts of Biology\"\n",
    "            \"Be more specific and do not facricate the answers.\\n\" \n",
    "            \"If you are unsure about answer, please ask for clarfications.\\n\"\n",
    "            \"Use the provided context information below to answer the user questions. \\n\"\n",
    "            \"-------------------------------------------\\n\"\n",
    "            \"{context_str}\" \n",
    "            \"\\n -------------------------------------------\\n\"\n",
    "            \"Given this information, please answer user question: {query_str} \\n\")\n",
    "qa_template1 = PromptTemplate(template1)\n"
   ]
  },
  {
   "cell_type": "code",
   "execution_count": 27,
   "metadata": {},
   "outputs": [
    {
     "name": "stdout",
     "output_type": "stream",
     "text": [
      " q --> What are the four questions that biologists have struggled with since the early beginnings of biology? score --> 1.0\n",
      " q --> What is the ultimate goal of biology, according to the text? score --> 1.0\n",
      " q --> What are the eight characteristics that define life, according to the text? score --> 1.0\n",
      " q --> How do cells in multicellular organisms specialize to perform specific functions? score --> 1.0\n",
      " q --> What is the advantage of multicellular organisms over single-celled organisms, according to the text? score --> 1.0\n"
     ]
    }
   ],
   "source": [
    "import json\n",
    "rel_eval = RelevancyEvaluator(llm=llm)\n",
    "\n",
    "for qry in eval_questions_updated[:5]:\n",
    "    nodes = retriever.retrieve(qry)\n",
    "    context = \" \".join(node.get_text() for node in nodes)\n",
    "    prompt1 = qa_template1.format(context_str=context, query_str=qry)\n",
    "    response1 = query_engine.query(prompt1)\n",
    "    eval_result = json.loads(rel_eval.evaluate_response(query=qry, response=response1).json())\n",
    "    print(f\" q --> {qry} score --> {eval_result['score']}\")\n",
    "    "
   ]
  },
  {
   "cell_type": "code",
   "execution_count": null,
   "metadata": {},
   "outputs": [],
   "source": []
  }
 ],
 "metadata": {
  "kernelspec": {
   "display_name": "lamainx",
   "language": "python",
   "name": "python3"
  },
  "language_info": {
   "codemirror_mode": {
    "name": "ipython",
    "version": 3
   },
   "file_extension": ".py",
   "mimetype": "text/x-python",
   "name": "python",
   "nbconvert_exporter": "python",
   "pygments_lexer": "ipython3",
   "version": "3.11.9"
  }
 },
 "nbformat": 4,
 "nbformat_minor": 2
}
