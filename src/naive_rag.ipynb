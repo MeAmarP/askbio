{
 "cells": [
  {
   "cell_type": "markdown",
   "metadata": {},
   "source": [
    "### Data Preprocessing"
   ]
  },
  {
   "cell_type": "code",
   "execution_count": 1,
   "metadata": {},
   "outputs": [],
   "source": [
    "import fitz  # PyMuPDF\n",
    "import os\n",
    "import torch\n",
    "from dotenv import load_dotenv, find_dotenv"
   ]
  },
  {
   "cell_type": "code",
   "execution_count": null,
   "metadata": {},
   "outputs": [],
   "source": [
    "# Create a sample pdf for ch1,2\n",
    "def save_page_ranges(source_pdf_path, output_pdf_path, page_ranges):\n",
    "    \"\"\"\n",
    "    Saves specified ranges of pages from a source PDF to a new PDF file.\n",
    "\n",
    "    Args:\n",
    "    source_pdf_path (str): Path to the source PDF file.\n",
    "    output_pdf_path (str): Path to the output PDF file.\n",
    "    page_ranges (list of tuples): List of tuples, where each tuple represents a page range to save (inclusive, 0-indexed).\n",
    "    \"\"\"\n",
    "    # Open the source PDF file\n",
    "    doc = fitz.open(source_pdf_path)\n",
    "    # Create a new PDF to save selected pages\n",
    "    new_doc = fitz.open()\n",
    "\n",
    "    # Iterate through each range and add the pages to the new document\n",
    "    for start, end in page_ranges:\n",
    "        new_doc.insert_pdf(doc, from_page=start, to_page=end)\n",
    "\n",
    "    # Save the new document\n",
    "    new_doc.save(output_pdf_path)\n",
    "    new_doc.close()\n",
    "    doc.close()\n",
    "    print(f\"Specified page ranges have been saved to {output_pdf_path}\")\n",
    "\n",
    "# path to input pdf file\n",
    "source_pdf_path = '../data/ConceptsofBiology-WEB.pdf'\n",
    "# path to output pdf file\n",
    "output_pdf_path = 'sample_ch1_ch2_ConceptsofBiology.pdf'\n",
    "\n",
    "# pass range of pages to extract\n",
    "page_ranges = [(18, 38), (40, 66)]\n",
    "save_page_ranges(source_pdf_path, output_pdf_path, page_ranges)\n"
   ]
  },
  {
   "cell_type": "markdown",
   "metadata": {},
   "source": [
    "### TODO \n",
    "- Get unstractured pdf data into structured format like JSON"
   ]
  },
  {
   "cell_type": "markdown",
   "metadata": {},
   "source": [
    "### Embedding model"
   ]
  },
  {
   "cell_type": "code",
   "execution_count": null,
   "metadata": {},
   "outputs": [
    {
     "name": "stderr",
     "output_type": "stream",
     "text": [
      "/home/c3po/mambaforge/envs/lamainx/lib/python3.11/site-packages/tqdm/auto.py:21: TqdmWarning: IProgress not found. Please update jupyter and ipywidgets. See https://ipywidgets.readthedocs.io/en/stable/user_install.html\n",
      "  from .autonotebook import tqdm as notebook_tqdm\n"
     ]
    }
   ],
   "source": [
    "from llama_index.embeddings.huggingface import HuggingFaceEmbedding\n",
    "embed_model = HuggingFaceEmbedding(model_name=\"BAAI/bge-large-en-v1.5\", device=('cuda' if torch.cuda.is_available() else 'cpu'))"
   ]
  },
  {
   "cell_type": "code",
   "execution_count": null,
   "metadata": {},
   "outputs": [
    {
     "name": "stdout",
     "output_type": "stream",
     "text": [
      "1024\n"
     ]
    }
   ],
   "source": [
    "embeddings = embed_model.get_text_embedding(\"Hello World!\")\n",
    "print(len(embeddings))"
   ]
  },
  {
   "cell_type": "markdown",
   "metadata": {},
   "source": [
    "### LLM"
   ]
  },
  {
   "cell_type": "code",
   "execution_count": null,
   "metadata": {},
   "outputs": [],
   "source": [
    "from llama_index.llms.huggingface import HuggingFaceInferenceAPI\n",
    "\n",
    "llm_hf = HuggingFaceInferenceAPI(model_name=\"HuggingFaceH4/zephyr-7b-alpha\", token=HF_TOKEN)\n",
    "\n",
    "print(remotely_run_anon.complete(\"To infinity, and\"))"
   ]
  },
  {
   "cell_type": "code",
   "execution_count": 2,
   "metadata": {},
   "outputs": [],
   "source": [
    "from llama_index.llms.ollama import Ollama\n",
    "\n",
    "phi3 = Ollama(\n",
    "    model=\"phi3:instruct\",\n",
    "    request_timeout=40.0,\n",
    "    temperature=0.0\n",
    ")"
   ]
  },
  {
   "cell_type": "code",
   "execution_count": 3,
   "metadata": {},
   "outputs": [],
   "source": [
    "print(phi3.complete(\"what is computer\"))"
   ]
  },
  {
   "cell_type": "code",
   "execution_count": null,
   "metadata": {},
   "outputs": [],
   "source": [
    "from llama_index.core import SimpleDirectoryReader, VectorStoreIndex\n",
    "\n",
    "loader = SimpleDirectoryReader(\n",
    "    input_dir=\"../data/sample/\",\n",
    "    recursive=True,\n",
    "    required_exts=[\".pdf\"],\n",
    ")\n",
    "\n",
    "documents = loader.load_data()"
   ]
  },
  {
   "cell_type": "code",
   "execution_count": null,
   "metadata": {},
   "outputs": [],
   "source": [
    "from llama_index.core import VectorStoreIndex\n",
    "\n",
    "index = VectorStoreIndex.from_documents(\n",
    "    documents,\n",
    "    embed_model=embedding_model,\n",
    ")"
   ]
  }
 ],
 "metadata": {
  "kernelspec": {
   "display_name": "lamainx",
   "language": "python",
   "name": "python3"
  },
  "language_info": {
   "codemirror_mode": {
    "name": "ipython",
    "version": 3
   },
   "file_extension": ".py",
   "mimetype": "text/x-python",
   "name": "python",
   "nbconvert_exporter": "python",
   "pygments_lexer": "ipython3",
   "version": "3.11.9"
  }
 },
 "nbformat": 4,
 "nbformat_minor": 2
}
